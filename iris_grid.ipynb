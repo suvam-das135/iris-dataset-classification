{
 "metadata": {
  "language_info": {
   "codemirror_mode": {
    "name": "ipython",
    "version": 3
   },
   "file_extension": ".py",
   "mimetype": "text/x-python",
   "name": "python",
   "nbconvert_exporter": "python",
   "pygments_lexer": "ipython3",
   "version": "3.7.4-final"
  },
  "orig_nbformat": 2,
  "kernelspec": {
   "name": "python3",
   "display_name": "Python 3.7.4 32-bit",
   "metadata": {
    "interpreter": {
     "hash": "07d56144524900fd8015c6f84f0920784b3f1790b2e4efd6f80962c7847ff7a6"
    }
   }
  }
 },
 "nbformat": 4,
 "nbformat_minor": 2,
 "cells": [
  {
   "cell_type": "code",
   "execution_count": 1,
   "metadata": {},
   "outputs": [],
   "source": [
    "from sklearn import svm, datasets\n",
    "df = datasets.load_iris()"
   ]
  },
  {
   "cell_type": "code",
   "execution_count": 2,
   "metadata": {},
   "outputs": [],
   "source": [
    "x = df.data"
   ]
  },
  {
   "cell_type": "code",
   "execution_count": 3,
   "metadata": {},
   "outputs": [],
   "source": [
    "y = df.target"
   ]
  },
  {
   "cell_type": "code",
   "execution_count": 4,
   "metadata": {},
   "outputs": [],
   "source": [
    "from sklearn.model_selection import train_test_split\n",
    "x_train, x_test, y_train, y_test = train_test_split(x, y, test_size=0.3)"
   ]
  },
  {
   "cell_type": "code",
   "execution_count": 6,
   "metadata": {},
   "outputs": [
    {
     "output_type": "execute_result",
     "data": {
      "text/plain": [
       "0.8666666666666667"
      ]
     },
     "metadata": {},
     "execution_count": 6
    }
   ],
   "source": [
    "model = svm.SVC(kernel='rbf', C=30, gamma='auto')\n",
    "model.fit(x_train, y_train)\n",
    "model.score(x_test, y_test)"
   ]
  },
  {
   "cell_type": "code",
   "execution_count": 7,
   "metadata": {},
   "outputs": [
    {
     "output_type": "execute_result",
     "data": {
      "text/plain": [
       "{'mean_fit_time': array([0.00194817, 0.00068588, 0.00111008, 0.00035782, 0.00060248,\n",
       "        0.00039101]),\n",
       " 'std_fit_time': array([0.00135563, 0.00038223, 0.00100123, 0.00044084, 0.00049196,\n",
       "        0.00047903]),\n",
       " 'mean_score_time': array([0.00063772, 0.00055833, 0.00047212, 0.00045457, 0.00071001,\n",
       "        0.00019903]),\n",
       " 'std_score_time': array([0.00054062, 0.00046193, 0.00045016, 0.00039552, 0.00039162,\n",
       "        0.00039806]),\n",
       " 'param_C': masked_array(data=[1, 1, 10, 10, 20, 20],\n",
       "              mask=[False, False, False, False, False, False],\n",
       "        fill_value='?',\n",
       "             dtype=object),\n",
       " 'param_kernel': masked_array(data=['rbf', 'linear', 'rbf', 'linear', 'rbf', 'linear'],\n",
       "              mask=[False, False, False, False, False, False],\n",
       "        fill_value='?',\n",
       "             dtype=object),\n",
       " 'params': [{'C': 1, 'kernel': 'rbf'},\n",
       "  {'C': 1, 'kernel': 'linear'},\n",
       "  {'C': 10, 'kernel': 'rbf'},\n",
       "  {'C': 10, 'kernel': 'linear'},\n",
       "  {'C': 20, 'kernel': 'rbf'},\n",
       "  {'C': 20, 'kernel': 'linear'}],\n",
       " 'split0_test_score': array([0.96666667, 0.96666667, 0.96666667, 1.        , 0.96666667,\n",
       "        1.        ]),\n",
       " 'split1_test_score': array([1., 1., 1., 1., 1., 1.]),\n",
       " 'split2_test_score': array([0.96666667, 0.96666667, 0.96666667, 0.9       , 0.9       ,\n",
       "        0.9       ]),\n",
       " 'split3_test_score': array([0.96666667, 0.96666667, 0.96666667, 0.96666667, 0.96666667,\n",
       "        0.93333333]),\n",
       " 'split4_test_score': array([1., 1., 1., 1., 1., 1.]),\n",
       " 'mean_test_score': array([0.98      , 0.98      , 0.98      , 0.97333333, 0.96666667,\n",
       "        0.96666667]),\n",
       " 'std_test_score': array([0.01632993, 0.01632993, 0.01632993, 0.03887301, 0.03651484,\n",
       "        0.0421637 ]),\n",
       " 'rank_test_score': array([1, 1, 1, 4, 5, 6], dtype=int32)}"
      ]
     },
     "metadata": {},
     "execution_count": 7
    }
   ],
   "source": [
    "from sklearn.model_selection import GridSearchCV\n",
    "param_grid = {'C':[1, 10, 20], 'kernel':['rbf', 'linear']}\n",
    "mod = GridSearchCV(svm.SVC(gamma='auto'), param_grid, cv = 5)\n",
    "mod.fit(x, y)\n",
    "mod.cv_results_"
   ]
  },
  {
   "cell_type": "code",
   "execution_count": 8,
   "metadata": {},
   "outputs": [
    {
     "output_type": "execute_result",
     "data": {
      "text/plain": [
       "  param_C param_kernel  mean_test_score\n",
       "0       1          rbf         0.980000\n",
       "1       1       linear         0.980000\n",
       "2      10          rbf         0.980000\n",
       "3      10       linear         0.973333\n",
       "4      20          rbf         0.966667\n",
       "5      20       linear         0.966667"
      ],
      "text/html": "<div>\n<style scoped>\n    .dataframe tbody tr th:only-of-type {\n        vertical-align: middle;\n    }\n\n    .dataframe tbody tr th {\n        vertical-align: top;\n    }\n\n    .dataframe thead th {\n        text-align: right;\n    }\n</style>\n<table border=\"1\" class=\"dataframe\">\n  <thead>\n    <tr style=\"text-align: right;\">\n      <th></th>\n      <th>param_C</th>\n      <th>param_kernel</th>\n      <th>mean_test_score</th>\n    </tr>\n  </thead>\n  <tbody>\n    <tr>\n      <th>0</th>\n      <td>1</td>\n      <td>rbf</td>\n      <td>0.980000</td>\n    </tr>\n    <tr>\n      <th>1</th>\n      <td>1</td>\n      <td>linear</td>\n      <td>0.980000</td>\n    </tr>\n    <tr>\n      <th>2</th>\n      <td>10</td>\n      <td>rbf</td>\n      <td>0.980000</td>\n    </tr>\n    <tr>\n      <th>3</th>\n      <td>10</td>\n      <td>linear</td>\n      <td>0.973333</td>\n    </tr>\n    <tr>\n      <th>4</th>\n      <td>20</td>\n      <td>rbf</td>\n      <td>0.966667</td>\n    </tr>\n    <tr>\n      <th>5</th>\n      <td>20</td>\n      <td>linear</td>\n      <td>0.966667</td>\n    </tr>\n  </tbody>\n</table>\n</div>"
     },
     "metadata": {},
     "execution_count": 8
    }
   ],
   "source": [
    "import pandas as pd\n",
    "fr = pd.DataFrame(mod.cv_results_)\n",
    "fr[['param_C','param_kernel','mean_test_score']]"
   ]
  },
  {
   "cell_type": "code",
   "execution_count": 9,
   "metadata": {},
   "outputs": [
    {
     "output_type": "execute_result",
     "data": {
      "text/plain": [
       "{'C': 1, 'kernel': 'rbf'}"
      ]
     },
     "metadata": {},
     "execution_count": 9
    }
   ],
   "source": [
    "mod.best_params_"
   ]
  },
  {
   "cell_type": "code",
   "execution_count": 10,
   "metadata": {},
   "outputs": [
    {
     "output_type": "execute_result",
     "data": {
      "text/plain": [
       "0.9800000000000001"
      ]
     },
     "metadata": {},
     "execution_count": 10
    }
   ],
   "source": [
    "mod.best_score_"
   ]
  },
  {
   "cell_type": "code",
   "execution_count": 11,
   "metadata": {},
   "outputs": [
    {
     "output_type": "execute_result",
     "data": {
      "text/plain": [
       "  param_C param_kernel  mean_test_score\n",
       "0       1          rbf         0.980000\n",
       "1       1       linear         0.980000\n",
       "2      10          rbf         0.980000\n",
       "3      10       linear         0.973333\n",
       "4      20          rbf         0.966667\n",
       "5      20       linear         0.966667"
      ],
      "text/html": "<div>\n<style scoped>\n    .dataframe tbody tr th:only-of-type {\n        vertical-align: middle;\n    }\n\n    .dataframe tbody tr th {\n        vertical-align: top;\n    }\n\n    .dataframe thead th {\n        text-align: right;\n    }\n</style>\n<table border=\"1\" class=\"dataframe\">\n  <thead>\n    <tr style=\"text-align: right;\">\n      <th></th>\n      <th>param_C</th>\n      <th>param_kernel</th>\n      <th>mean_test_score</th>\n    </tr>\n  </thead>\n  <tbody>\n    <tr>\n      <th>0</th>\n      <td>1</td>\n      <td>rbf</td>\n      <td>0.980000</td>\n    </tr>\n    <tr>\n      <th>1</th>\n      <td>1</td>\n      <td>linear</td>\n      <td>0.980000</td>\n    </tr>\n    <tr>\n      <th>2</th>\n      <td>10</td>\n      <td>rbf</td>\n      <td>0.980000</td>\n    </tr>\n    <tr>\n      <th>3</th>\n      <td>10</td>\n      <td>linear</td>\n      <td>0.973333</td>\n    </tr>\n    <tr>\n      <th>4</th>\n      <td>20</td>\n      <td>rbf</td>\n      <td>0.966667</td>\n    </tr>\n    <tr>\n      <th>5</th>\n      <td>20</td>\n      <td>linear</td>\n      <td>0.966667</td>\n    </tr>\n  </tbody>\n</table>\n</div>"
     },
     "metadata": {},
     "execution_count": 11
    }
   ],
   "source": [
    "from sklearn.model_selection import RandomizedSearchCV\n",
    "param_grid = {'C':[1, 10, 20], 'kernel':['rbf', 'linear']}\n",
    "mor = RandomizedSearchCV(svm.SVC(gamma='auto'), param_grid, cv = 5, n_iter=2)\n",
    "mor.fit(x, y)\n",
    "rs = pd.DataFrame(mod.cv_results_)\n",
    "rs[['param_C','param_kernel','mean_test_score']]"
   ]
  },
  {
   "cell_type": "code",
   "execution_count": 12,
   "metadata": {},
   "outputs": [],
   "source": [
    "from sklearn import svm\n",
    "from sklearn.ensemble import RandomForestClassifier\n",
    "from sklearn.linear_model import LogisticRegression"
   ]
  },
  {
   "cell_type": "code",
   "execution_count": 13,
   "metadata": {},
   "outputs": [],
   "source": [
    "param_svm = {'C':[1, 10, 20], 'kernel':['rbf', 'linear']}\n",
    "param_for = {'n_estimators':[1, 5, 10]}\n",
    "param_log = {'C':[1, 5, 10]}"
   ]
  },
  {
   "cell_type": "code",
   "execution_count": 14,
   "metadata": {},
   "outputs": [
    {
     "output_type": "execute_result",
     "data": {
      "text/plain": [
       "GridSearchCV(cv=5, estimator=LogisticRegression(solver='liblinear'), n_jobs=3,\n",
       "             param_grid={'C': [1, 5, 10]})"
      ]
     },
     "metadata": {},
     "execution_count": 14
    }
   ],
   "source": [
    "mod_svm = GridSearchCV(svm.SVC(gamma='auto'), param_svm, cv=5, n_jobs=3)\n",
    "mod_for = GridSearchCV(RandomForestClassifier(), param_for, cv=5, n_jobs=3)\n",
    "mod_log = GridSearchCV(LogisticRegression(solver='liblinear', multi_class='auto'), param_log, cv=5, n_jobs=3)\n",
    "\n",
    "mod_svm.fit(x, y)\n",
    "mod_for.fit(x, y)\n",
    "mod_log.fit(x, y)"
   ]
  },
  {
   "cell_type": "code",
   "execution_count": 15,
   "metadata": {},
   "outputs": [
    {
     "output_type": "stream",
     "name": "stdout",
     "text": [
      "svm model\n{'C': 1, 'kernel': 'rbf'}\n0.9800000000000001\n"
     ]
    }
   ],
   "source": [
    "print(\"svm model\")\n",
    "print(mod_svm.best_params_)\n",
    "print(mod_svm.best_score_)"
   ]
  },
  {
   "cell_type": "code",
   "execution_count": 16,
   "metadata": {},
   "outputs": [
    {
     "output_type": "stream",
     "name": "stdout",
     "text": [
      "random forest\n{'n_estimators': 5}\n0.9666666666666668\n"
     ]
    }
   ],
   "source": [
    "print(\"random forest\")\n",
    "print(mod_for.best_params_)\n",
    "print(mod_for.best_score_)"
   ]
  },
  {
   "cell_type": "code",
   "execution_count": 17,
   "metadata": {},
   "outputs": [
    {
     "output_type": "stream",
     "name": "stdout",
     "text": [
      "logistic\n{'C': 5}\n0.9666666666666668\n"
     ]
    }
   ],
   "source": [
    "print(\"logistic\")\n",
    "print(mod_log.best_params_)\n",
    "print(mod_log.best_score_)"
   ]
  },
  {
   "cell_type": "code",
   "execution_count": null,
   "metadata": {},
   "outputs": [],
   "source": []
  }
 ]
}